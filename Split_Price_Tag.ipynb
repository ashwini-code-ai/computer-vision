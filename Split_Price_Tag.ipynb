{
  "nbformat": 4,
  "nbformat_minor": 0,
  "metadata": {
    "colab": {
      "provenance": []
    },
    "kernelspec": {
      "name": "python3",
      "display_name": "Python 3"
    },
    "language_info": {
      "name": "python"
    }
  },
  "cells": [
    {
      "cell_type": "markdown",
      "source": [
        "#import Libraries"
      ],
      "metadata": {
        "id": "3CCmA60-bK-a"
      }
    },
    {
      "cell_type": "code",
      "execution_count": 1,
      "metadata": {
        "id": "58HGhTb_arle"
      },
      "outputs": [],
      "source": [
        "import cv2\n",
        "import numpy as np"
      ]
    },
    {
      "cell_type": "markdown",
      "source": [
        "# Split_price_tag function"
      ],
      "metadata": {
        "id": "bJzFipWYnIbP"
      }
    },
    {
      "cell_type": "code",
      "source": [
        "def split_price_tags(img_path,output_folder):\n",
        "  img = cv2.imread(img_path)\n",
        "  height , width , _ = img.shape\n",
        "  rows = 6\n",
        "  cols = 3\n",
        "  split_height  = np.ceil(height / 6).astype(int)\n",
        "  split_width = np.ceil(width /3).astype(int)\n",
        "  print(height , width,split_height,  split_width)\n",
        "  for row in range(rows):\n",
        "    for col in range(cols):\n",
        "      x1 = col * split_width\n",
        "      y1 = row * split_height\n",
        "      x2 = x1 + split_width\n",
        "      if(y1 + split_height) < height:\n",
        "        y2 = y1 + split_height + 5\n",
        "      else:\n",
        "        y2 = y1 + split_height\n",
        "\n",
        "      price_tag = img[y1:y2, x1:x2]\n",
        "      filename = f\"split_image_{row}_{col}.jpg\"\n",
        "      filepath = output_folder + filename\n",
        "      print(filepath)\n",
        "      cv2.imwrite(filepath, price_tag)\n",
        "\n",
        "  return"
      ],
      "metadata": {
        "id": "WRxqVVj3bNvR"
      },
      "execution_count": 2,
      "outputs": []
    },
    {
      "cell_type": "code",
      "source": [
        "path = '/content/data/assignment-2.jpg'\n",
        "output_folder = '/content/data/'"
      ],
      "metadata": {
        "id": "86Ja2_Z5cGep"
      },
      "execution_count": 3,
      "outputs": []
    },
    {
      "cell_type": "code",
      "source": [
        "split_price_tags(path,output_folder)"
      ],
      "metadata": {
        "colab": {
          "base_uri": "https://localhost:8080/"
        },
        "id": "lYsYJzXMcK_E",
        "outputId": "51a1a358-7170-4133-daae-db16b571a62d"
      },
      "execution_count": 4,
      "outputs": [
        {
          "output_type": "stream",
          "name": "stdout",
          "text": [
            "990 700 165 234\n",
            "/content/data/split_image_0_0.jpg\n",
            "/content/data/split_image_0_1.jpg\n",
            "/content/data/split_image_0_2.jpg\n",
            "/content/data/split_image_1_0.jpg\n",
            "/content/data/split_image_1_1.jpg\n",
            "/content/data/split_image_1_2.jpg\n",
            "/content/data/split_image_2_0.jpg\n",
            "/content/data/split_image_2_1.jpg\n",
            "/content/data/split_image_2_2.jpg\n",
            "/content/data/split_image_3_0.jpg\n",
            "/content/data/split_image_3_1.jpg\n",
            "/content/data/split_image_3_2.jpg\n",
            "/content/data/split_image_4_0.jpg\n",
            "/content/data/split_image_4_1.jpg\n",
            "/content/data/split_image_4_2.jpg\n",
            "/content/data/split_image_5_0.jpg\n",
            "/content/data/split_image_5_1.jpg\n",
            "/content/data/split_image_5_2.jpg\n"
          ]
        }
      ]
    },
    {
      "cell_type": "code",
      "source": [],
      "metadata": {
        "id": "HpB138BVcOhl"
      },
      "execution_count": 4,
      "outputs": []
    }
  ]
}